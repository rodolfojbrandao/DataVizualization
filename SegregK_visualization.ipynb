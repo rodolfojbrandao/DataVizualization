{
 "cells": [
  {
   "cell_type": "code",
   "execution_count": 6,
   "metadata": {},
   "outputs": [],
   "source": [
    "from pandas import DataFrame\n",
    "import numpy as np\n",
    "import pandas as pd\n",
    "import matplotlib.pyplot as plt\n",
    "from mpl_toolkits import mplot3d\n",
    "from matplotlib import cm\n",
    "from mpl_toolkits.mplot3d import Axes3D\n",
    "from matplotlib.ticker import LinearLocator, FormatStrFormatter\n",
    "import os\n",
    "import math\n",
    "import cufflinks as cf\n",
    "%matplotlib inline\n",
    "import statsmodels.api as sm\n"
   ]
  },
  {
   "cell_type": "code",
   "execution_count": 7,
   "metadata": {},
   "outputs": [
    {
     "name": "stdout",
     "output_type": "stream",
     "text": [
      "fatal: destination path 'Data' already exists and is not an empty directory.\n",
      "/home/rodolfo/GitHub/DataVizualization/Data/Segregacao/Data\n",
      "/home/rodolfo/GitHub/DataVizualization/Data/Segregacao/Data/Segregacao\n",
      " CasosMisturados        Segregacao-efeito-combinado-tamanho-densidade\n",
      " k.csv\t\t       'Segregação-efeito-do equipamento-paredes-terminais'\n",
      " k.xlsx\t\t        Segregacao-tamanho\n",
      " RD.csv\t\t        sig-inf.csv\n",
      " RT.csv\t\t        sig-inf.xlsx\n",
      " Segregacao-densidade\n"
     ]
    }
   ],
   "source": [
    "!git clone http://github.com/rodolfojbrandao/Data\n",
    "%cd Data\n",
    "%cd Segregacao\n",
    "!ls"
   ]
  },
  {
   "cell_type": "code",
   "execution_count": 8,
   "metadata": {},
   "outputs": [
    {
     "name": "stdout",
     "output_type": "stream",
     "text": [
      "        x1       x2       k\n",
      "0  1.00001  0.10001  0.3645\n",
      "1  1.00001  0.20001  0.3026\n",
      "2  1.00001  0.30001  0.2747\n",
      "3  1.00001  0.40001  0.2562\n",
      "4  1.00001  0.50001  0.2645\n"
     ]
    }
   ],
   "source": [
    "Dados = pd.read_csv('k.csv')\n",
    "print(Dados.head())"
   ]
  },
  {
   "cell_type": "code",
   "execution_count": 9,
   "metadata": {},
   "outputs": [
    {
     "data": {
      "text/html": [
       "        <script type=\"text/javascript\">\n",
       "        window.PlotlyConfig = {MathJaxConfig: 'local'};\n",
       "        if (window.MathJax) {MathJax.Hub.Config({SVG: {font: \"STIX-Web\"}});}\n",
       "        if (typeof require !== 'undefined') {\n",
       "        require.undef(\"plotly\");\n",
       "        requirejs.config({\n",
       "            paths: {\n",
       "                'plotly': ['https://cdn.plot.ly/plotly-latest.min']\n",
       "            }\n",
       "        });\n",
       "        require(['plotly'], function(Plotly) {\n",
       "            window._Plotly = Plotly;\n",
       "        });\n",
       "        }\n",
       "        </script>\n",
       "        "
      ]
     },
     "metadata": {},
     "output_type": "display_data"
    },
    {
     "data": {
      "image/png": "[encoded data removed]",
      "text/plain": [
       "<Figure size 432x288 with 1 Axes>"
      ]
     },
     "metadata": {
      "needs_background": "light"
     },
     "output_type": "display_data"
    }
   ],
   "source": [
    "X = Dados['x1']\n",
    "Y = Dados['x2']\n",
    "#Z=Dados[['x1','x2']]\n",
    "Z = Dados['k']\n",
    "cf.go_offline()\n",
    "plt.scatter(X, Z)\n",
    "plt.scatter(Y, Z)\n",
    "plt.show()"
   ]
  },
  {
   "cell_type": "code",
   "execution_count": 10,
   "metadata": {},
   "outputs": [],
   "source": [
    "#x=X.to_numpy()\n",
    "#y=Y.to_numpy()\n",
    "#z=Z.to_numpy()\n",
    "#fig = plt.figure()\n",
    "#ax = fig.gca(projection='3d')\n",
    "#ax.contour3D(x,y,z, 50, cmap='binary')\n",
    "#ax.set_xlabel('x1')\n",
    "#ax.set_ylabel('x2')\n",
    "#ax.set_zlabel('k')"
   ]
  },
  {
   "cell_type": "code",
   "execution_count": 11,
   "metadata": {},
   "outputs": [],
   "source": [
    "#fig = plt.figure()\n",
    "#ax = fig.gca(projection='3d')\n",
    "\n",
    "# Plot the surface.\n",
    "#surf = ax.plot_surface(x, y, z, cmap=cm.coolwarm,linewidth=0, antialiased=False)\n",
    "\n",
    "# Customize the z axis.\n",
    "#ax.set_zlim(-1.01, 1.01)\n",
    "#ax.zaxis.set_major_locator(LinearLocator(10))\n",
    "#ax.zaxis.set_major_formatter(FormatStrFormatter('%.02f'))\n",
    "\n",
    "# Add a color bar which maps values to colors.\n",
    "#fig.colorbar(surf, shrink=0.5, aspect=5)\n",
    "\n",
    "#plt.show()"
   ]
  },
  {
   "cell_type": "code",
   "execution_count": null,
   "metadata": {},
   "outputs": [],
   "source": []
  },
  {
   "cell_type": "code",
   "execution_count": null,
   "metadata": {},
   "outputs": [],
   "source": []
  }
 ],
 "metadata": {
  "kernelspec": {
   "display_name": "Python 3",
   "language": "python",
   "name": "python3"
  },
  "language_info": {
   "codemirror_mode": {
    "name": "ipython",
    "version": 3
   },
   "file_extension": ".py",
   "mimetype": "text/x-python",
   "name": "python",
   "nbconvert_exporter": "python",
   "pygments_lexer": "ipython3",
   "version": "3.7.3"
  }
 },
 "nbformat": 4,
 "nbformat_minor": 2
}
