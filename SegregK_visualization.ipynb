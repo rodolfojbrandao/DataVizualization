{
 "cells": [
  {
   "cell_type": "code",
   "execution_count": 1,
   "metadata": {},
   "outputs": [],
   "source": [
    "import statsmodels.api as sm\n",
    "from pandas import DataFrame\n",
    "import numpy as np\n",
    "import pandas as pd\n",
    "import matplotlib.pyplot as plt\n",
    "from mpl_toolkits import mplot3d\n",
    "from matplotlib import cm\n",
    "from mpl_toolkits.mplot3d import Axes3D\n",
    "from matplotlib.ticker import LinearLocator, FormatStrFormatter\n",
    "import os\n",
    "import math\n",
    "%matplotlib inline"
   ]
  },
  {
   "cell_type": "code",
   "execution_count": 2,
   "metadata": {},
   "outputs": [
    {
     "name": "stdout",
     "output_type": "stream",
     "text": [
      "fatal: destination path 'Data' already exists and is not an empty directory.\n",
      "/home/rodolfo/GitHub/DataVizualization/Data\n",
      "/home/rodolfo/GitHub/DataVizualization/Data/Segregacao\n",
      "CasosMisturados       Segregacao-efeito-combinado-tamanho-densidade\n",
      "Data\t\t      Segregação-efeito-do equipamento-paredes-terminais\n",
      "k.csv\t\t      Segregacao-tamanho\n",
      "k.xlsx\t\t      sig-inf.csv\n",
      "Segregacao-densidade  sig-inf.xlsx\n"
     ]
    }
   ],
   "source": [
    "!git clone http://github.com/rodolfojbrandao/Data\n",
    "%cd Data\n",
    "%cd Segregacao\n",
    "!ls"
   ]
  },
  {
   "cell_type": "code",
   "execution_count": 3,
   "metadata": {},
   "outputs": [
    {
     "name": "stdout",
     "output_type": "stream",
     "text": [
      "          x1        x2         k\n",
      "0   1.000010  0.100010  0.364500\n",
      "1   1.000010  0.200010  0.302600\n",
      "2   1.000010  0.300010  0.274700\n",
      "3   1.000010  0.400010  0.256200\n",
      "4   1.000010  0.500010  0.264500\n",
      "5   1.000010  0.600010  0.237600\n",
      "6   1.000010  0.700010  0.217800\n",
      "7   1.000010  0.800010  0.209200\n",
      "8   1.000010  0.900010  0.205300\n",
      "9   1.000010  1.000010  0.166600\n",
      "10  0.100010  1.000010  0.146800\n",
      "11  0.200010  1.000010  0.201500\n",
      "12  0.300010  1.000010  0.285800\n",
      "13  0.400010  1.000010  0.267100\n",
      "14  0.500010  1.000010  0.320900\n",
      "15  0.600010  1.000010  0.326200\n",
      "16  0.700010  1.000010  0.292400\n",
      "17  0.800010  1.000010  0.227400\n",
      "18  0.900010  1.000010  0.183100\n",
      "19  1.000010  1.000010  0.166600\n",
      "20  1.000010  1.000010  0.168411\n",
      "21  1.000010  0.428581  0.114089\n",
      "22  1.000010  0.428581  0.206497\n",
      "23  1.000010  1.000010  0.112772\n",
      "24  0.625010  1.000010  0.162435\n",
      "25  0.625010  1.000010  0.128910\n",
      "26  1.000010  0.400010  0.329369\n",
      "27  1.000010  0.625010  0.217522\n",
      "28  1.000010  0.400010  0.303683\n",
      "29  1.000010  0.625010  0.434357\n",
      "30  1.000010  1.000010  0.126011\n",
      "31  0.428581  1.000010  0.113266\n",
      "32  0.428581  0.428581  0.303799\n",
      "33  0.428581  0.428581  0.290191\n",
      "34  0.428581  1.000010  0.169835\n",
      "35  0.428581  1.000010  0.136706\n",
      "36  0.428581  0.428581  0.217628\n",
      "37  0.428581  0.428581  0.300061\n",
      "38  0.428581  1.000010  0.115739\n",
      "39  1.000010  1.000010  0.135564\n",
      "40  1.000010  0.428581  0.219105\n",
      "41  1.000010  0.428581  0.201351\n",
      "42  1.000010  1.000010  0.191002\n",
      "43  0.400010  1.000010  0.118275\n",
      "44  0.400010  1.000010  0.145788\n"
     ]
    }
   ],
   "source": [
    "Dados = pd.read_csv('k.csv')\n",
    "print(Dados)"
   ]
  },
  {
   "cell_type": "code",
   "execution_count": 4,
   "metadata": {},
   "outputs": [
    {
     "data": {
      "image/png": "[encoded data removed]",
      "text/plain": [
       "<Figure size 432x288 with 1 Axes>"
      ]
     },
     "metadata": {
      "needs_background": "light"
     },
     "output_type": "display_data"
    }
   ],
   "source": [
    "X = Dados['x1']\n",
    "Y = Dados['x2']\n",
    "#Z=Dados[['x1','x2']]\n",
    "Z = Dados['k']\n",
    "\n",
    "plt.scatter(X, Z)\n",
    "plt.scatter(Y, Z)\n",
    "plt.show()"
   ]
  },
  {
   "cell_type": "code",
   "execution_count": 5,
   "metadata": {},
   "outputs": [],
   "source": [
    "#x=X.to_numpy()\n",
    "#y=Y.to_numpy()\n",
    "#z=Z.to_numpy()\n",
    "#fig = plt.figure()\n",
    "#ax = fig.gca(projection='3d')\n",
    "#ax.contour3D(x,y,z, 50, cmap='binary')\n",
    "#ax.set_xlabel('x1')\n",
    "#ax.set_ylabel('x2')\n",
    "#ax.set_zlabel('k')"
   ]
  },
  {
   "cell_type": "code",
   "execution_count": 6,
   "metadata": {},
   "outputs": [],
   "source": [
    "#fig = plt.figure()\n",
    "#ax = fig.gca(projection='3d')\n",
    "\n",
    "# Plot the surface.\n",
    "#surf = ax.plot_surface(x, y, z, cmap=cm.coolwarm,linewidth=0, antialiased=False)\n",
    "\n",
    "# Customize the z axis.\n",
    "#ax.set_zlim(-1.01, 1.01)\n",
    "#ax.zaxis.set_major_locator(LinearLocator(10))\n",
    "#ax.zaxis.set_major_formatter(FormatStrFormatter('%.02f'))\n",
    "\n",
    "# Add a color bar which maps values to colors.\n",
    "#fig.colorbar(surf, shrink=0.5, aspect=5)\n",
    "\n",
    "#plt.show()"
   ]
  },
  {
   "cell_type": "code",
   "execution_count": null,
   "metadata": {},
   "outputs": [],
   "source": []
  }
 ],
 "metadata": {
  "kernelspec": {
   "display_name": "Python 3",
   "language": "python",
   "name": "python3"
  },
  "language_info": {
   "codemirror_mode": {
    "name": "ipython",
    "version": 3
   },
   "file_extension": ".py",
   "mimetype": "text/x-python",
   "name": "python",
   "nbconvert_exporter": "python",
   "pygments_lexer": "ipython3",
   "version": "3.5.2"
  }
 },
 "nbformat": 4,
 "nbformat_minor": 2
}
